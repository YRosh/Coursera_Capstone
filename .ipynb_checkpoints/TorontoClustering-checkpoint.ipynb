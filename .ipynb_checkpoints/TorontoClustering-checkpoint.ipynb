{
 "cells": [
  {
   "cell_type": "markdown",
   "metadata": {},
   "source": [
    "#### Step 1 :\n",
    "Importing the required Libraries."
   ]
  },
  {
   "cell_type": "code",
   "execution_count": 48,
   "metadata": {},
   "outputs": [],
   "source": [
    "from bs4 import BeautifulSoup\n",
    "import requests\n",
    "import pandas as pd\n",
    "\n",
    "pd.set_option('display.max_rows', None)\n",
    "pd.set_option('display.max_columns', None)"
   ]
  },
  {
   "cell_type": "markdown",
   "metadata": {},
   "source": [
    "#### Step 2 :\n",
    "Scraping Toronto postal codes data from Wikipedia page."
   ]
  },
  {
   "cell_type": "code",
   "execution_count": 49,
   "metadata": {},
   "outputs": [
    {
     "name": "stdout",
     "output_type": "stream",
     "text": [
      "    Postcode           Borough              Neighborhood\n",
      "0        M3A        North York                 Parkwoods\n",
      "1        M4A        North York          Victoria Village\n",
      "2        M5A  Downtown Toronto              Harbourfront\n",
      "3        M6A        North York          Lawrence Heights\n",
      "4        M6A        North York            Lawrence Manor\n",
      "..       ...               ...                       ...\n",
      "205      M8Z         Etobicoke  Kingsway Park South West\n",
      "206      M8Z         Etobicoke                 Mimico NW\n",
      "207      M8Z         Etobicoke        The Queensway West\n",
      "208      M8Z         Etobicoke     Royal York South West\n",
      "209      M8Z         Etobicoke            South of Bloor\n",
      "\n",
      "[210 rows x 3 columns]\n"
     ]
    }
   ],
   "source": [
    "source = requests.get('https://en.wikipedia.org/wiki/List_of_postal_codes_of_Canada:_M').text\n",
    "soup = BeautifulSoup(source, 'lxml')\n",
    "\n",
    "data = {}\n",
    "table = soup.find('table', class_='wikitable')\n",
    "\n",
    "for i, row in enumerate(table.tbody, 0):\n",
    "    if i%2==0:\n",
    "        if i==0:\n",
    "            for heading in row.find_all('th'):\n",
    "                data[heading.text[:-1] if heading.text.endswith('\\n') else heading.text]=[]\n",
    "        else:\n",
    "            keys = list(data.keys())\n",
    "            row_data = row.find_all('td')\n",
    "            if row_data[1].text != 'Not assigned':\n",
    "                if row_data[0] not in data[keys[0]]:\n",
    "                    data[keys[0]].append(row_data[0].text)\n",
    "                    data[keys[1]].append(row_data[1].text)\n",
    "                    data[keys[2]].append(row_data[2].text[:-1] if row_data[2].text != 'Not assigned' else row_data[1].text)\n",
    "                else:\n",
    "                    ind = data[keys[0]].index(row_data[0])\n",
    "                    data[keys[2]][ind] += ', '+row_data[2].text[:-1] if row_data[2].text != 'Not assigned' else row_data[1].text\n",
    "\n",
    "data = pd.DataFrame(data)\n",
    "print(data)"
   ]
  },
  {
   "cell_type": "code",
   "execution_count": null,
   "metadata": {},
   "outputs": [],
   "source": []
  }
 ],
 "metadata": {
  "kernelspec": {
   "display_name": "Python 3",
   "language": "python",
   "name": "python3"
  },
  "language_info": {
   "codemirror_mode": {
    "name": "ipython",
    "version": 3
   },
   "file_extension": ".py",
   "mimetype": "text/x-python",
   "name": "python",
   "nbconvert_exporter": "python",
   "pygments_lexer": "ipython3",
   "version": "3.7.4"
  }
 },
 "nbformat": 4,
 "nbformat_minor": 2
}
